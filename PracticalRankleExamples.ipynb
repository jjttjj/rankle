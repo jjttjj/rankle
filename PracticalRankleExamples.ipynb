{
 "cells": [
  {
   "cell_type": "markdown",
   "metadata": {},
   "source": [
    "# Practical Rankle Examples\n",
    "\n",
    "_If you have not done so, please review the primary [Rankle](Rankle.ipynb) notebook first._"
   ]
  },
  {
   "cell_type": "code",
   "execution_count": 1,
   "metadata": {},
   "outputs": [],
   "source": [
    "(ns rankle.examples\n",
    "  (:require [cemerick.pomegranate :as pg]))\n",
    "\n",
    "(pg/add-classpath \"./src\")\n",
    "\n",
    "(require '[com.semperos.rankle :as r])"
   ]
  },
  {
   "cell_type": "markdown",
   "metadata": {},
   "source": [
    "## Numbers\n",
    "\n",
    "### Arithmetic"
   ]
  },
  {
   "cell_type": "code",
   "execution_count": 2,
   "metadata": {},
   "outputs": [
    {
     "data": {
      "text/plain": [
       "1"
      ]
     },
     "execution_count": 2,
     "metadata": {},
     "output_type": "execute_result"
    }
   ],
   "source": [
    "(r/+ 1)"
   ]
  },
  {
   "cell_type": "code",
   "execution_count": 3,
   "metadata": {},
   "outputs": [
    {
     "data": {
      "text/plain": [
       "6"
      ]
     },
     "execution_count": 3,
     "metadata": {},
     "output_type": "execute_result"
    }
   ],
   "source": [
    "(r/+ 1 2 3)"
   ]
  },
  {
   "cell_type": "code",
   "execution_count": 4,
   "metadata": {},
   "outputs": [
    {
     "data": {
      "text/plain": [
       "(2 3 4)"
      ]
     },
     "execution_count": 4,
     "metadata": {},
     "output_type": "execute_result"
    }
   ],
   "source": [
    "(r/+ 1 [1 2 3])"
   ]
  },
  {
   "cell_type": "code",
   "execution_count": 5,
   "metadata": {},
   "outputs": [
    {
     "data": {
      "text/plain": [
       "(2 3 4)"
      ]
     },
     "execution_count": 5,
     "metadata": {},
     "output_type": "execute_result"
    }
   ],
   "source": [
    "(r/+ [1 2 3] 1)"
   ]
  },
  {
   "cell_type": "code",
   "execution_count": 6,
   "metadata": {
    "scrolled": true
   },
   "outputs": [
    {
     "data": {
      "text/plain": [
       "(5 7 9)"
      ]
     },
     "execution_count": 6,
     "metadata": {},
     "output_type": "execute_result"
    }
   ],
   "source": [
    "(r/+ [1 2 3] [4 5 6])"
   ]
  },
  {
   "cell_type": "code",
   "execution_count": 7,
   "metadata": {},
   "outputs": [
    {
     "data": {
      "text/plain": [
       "((8 10 12) (14 16 18))"
      ]
     },
     "execution_count": 7,
     "metadata": {},
     "output_type": "execute_result"
    }
   ],
   "source": [
    "(r/+ [[1 2 3] [4 5 6]]\n",
    "     [[7 8 9] [10 11 12]])"
   ]
  },
  {
   "cell_type": "code",
   "execution_count": 8,
   "metadata": {},
   "outputs": [
    {
     "data": {
      "text/plain": [
       "[[0 1 2] [3 4 5]]"
      ]
     },
     "execution_count": 8,
     "metadata": {},
     "output_type": "execute_result"
    }
   ],
   "source": [
    ";; More succinct way to get larger multidimensional sequences of numbers:\n",
    "(r/reshape [2 3] (range 6))"
   ]
  },
  {
   "cell_type": "code",
   "execution_count": 9,
   "metadata": {},
   "outputs": [
    {
     "data": {
      "text/plain": [
       "((0 2 4) (6 8 10))"
      ]
     },
     "execution_count": 9,
     "metadata": {},
     "output_type": "execute_result"
    }
   ],
   "source": [
    "(r/+ (r/reshape [2 3] (range 6))\n",
    "     (r/reshape [2 3] (range 6)))"
   ]
  },
  {
   "cell_type": "code",
   "execution_count": 10,
   "metadata": {},
   "outputs": [
    {
     "name": "stdout",
     "output_type": "stream",
     "text": [
      "  0  2  4\n",
      "  6  8 10\n"
     ]
    }
   ],
   "source": [
    ";; We'll start printing these as tables for ease of review,\n",
    ";; but don't forget that these are just nested Clojure vectors:\n",
    "(r/print-aligned\n",
    " (r/+ (r/reshape [2 3] (range 6))\n",
    "      (r/reshape [2 3] (range 6))))"
   ]
  },
  {
   "cell_type": "code",
   "execution_count": 11,
   "metadata": {},
   "outputs": [
    {
     "name": "stdout",
     "output_type": "stream",
     "text": [
      "  0  1  2  3\n",
      "  5  6  7  8\n",
      " 10 11 12 13\n",
      "\n",
      " 15 16 17 18\n",
      " 20 21 22 23\n",
      " 25 26 27 28\n",
      "\n"
     ]
    }
   ],
   "source": [
    ";; As long as the common frame (i.e., the first axes of the shape of each argument)\n",
    ";; is the same, we can operate on data of different shapes:\n",
    "(r/print-aligned\n",
    " (r/+ (r/reshape [2 3] (range 6))\n",
    "      (r/reshape [2 3 4] (range 24))))"
   ]
  },
  {
   "cell_type": "code",
   "execution_count": 12,
   "metadata": {},
   "outputs": [
    {
     "name": "stdout",
     "output_type": "stream",
     "text": [
      "4 8 12\n"
     ]
    }
   ],
   "source": [
    ";; All of these things work for other arithmetic operations, too.\n",
    "(r/print-aligned\n",
    " (r/* 2 [2 4 6]))"
   ]
  },
  {
   "cell_type": "code",
   "execution_count": 13,
   "metadata": {},
   "outputs": [
    {
     "name": "stdout",
     "output_type": "stream",
     "text": [
      "16 40 72\n"
     ]
    }
   ],
   "source": [
    "(r/print-aligned\n",
    " (r/* [2 4 6] [8 10 12]))"
   ]
  },
  {
   "cell_type": "code",
   "execution_count": 14,
   "metadata": {},
   "outputs": [
    {
     "name": "stdout",
     "output_type": "stream",
     "text": [
      "   0   0   0   0\n",
      "   4   5   6   7\n",
      "  16  18  20  22\n",
      "\n",
      "  36  39  42  45\n",
      "  64  68  72  76\n",
      " 100 105 110 115\n",
      "\n"
     ]
    }
   ],
   "source": [
    "(binding [r/*hack* 3]    ; alignment\n",
    " (r/print-aligned\n",
    "  (r/* (r/reshape [2 3] (range 6))\n",
    "       (r/reshape [2 3 4] (range 24)))))"
   ]
  },
  {
   "cell_type": "code",
   "execution_count": 15,
   "metadata": {},
   "outputs": [
    {
     "name": "stdout",
     "output_type": "stream",
     "text": [
      " -1 -1 -1\n",
      " -1 -1 -1\n"
     ]
    }
   ],
   "source": [
    "(r/print-aligned\n",
    "  (r/- (r/reshape [2 3] (range 6))\n",
    "       (r/reshape [2 3] (map inc (range 6)))))"
   ]
  },
  {
   "cell_type": "code",
   "execution_count": 16,
   "metadata": {},
   "outputs": [
    {
     "name": "stdout",
     "output_type": "stream",
     "text": [
      "   0 1/2 2/3\n",
      " 3/4 4/5 5/6\n"
     ]
    }
   ],
   "source": [
    "(r/print-aligned\n",
    "  (r// (r/reshape [2 3] (range 6))\n",
    "       (r/reshape [2 3] (map inc (range 6)))))"
   ]
  },
  {
   "cell_type": "markdown",
   "metadata": {},
   "source": [
    "## Strings"
   ]
  },
  {
   "cell_type": "code",
   "execution_count": 17,
   "metadata": {},
   "outputs": [
    {
     "data": {
      "text/plain": [
       "[3]"
      ]
     },
     "execution_count": 17,
     "metadata": {},
     "output_type": "execute_result"
    }
   ],
   "source": [
    "(r/shape \"woo\")"
   ]
  },
  {
   "cell_type": "code",
   "execution_count": 18,
   "metadata": {},
   "outputs": [
    {
     "data": {
      "text/plain": [
       "[3 5]"
      ]
     },
     "execution_count": 18,
     "metadata": {},
     "output_type": "execute_result"
    }
   ],
   "source": [
    ";; Open question: Should `r/shape` warn or fail when\n",
    ";; collections are ragged?\n",
    "(r/shape [\"alpha\" \"beta\" \"gamma\"])"
   ]
  },
  {
   "cell_type": "code",
   "execution_count": 19,
   "metadata": {},
   "outputs": [
    {
     "data": {
      "text/plain": [
       "(5 4 5)"
      ]
     },
     "execution_count": 19,
     "metadata": {},
     "output_type": "execute_result"
    }
   ],
   "source": [
    ";; This appears to provide value, but may represent a trap:\n",
    "((r/rank r/count 1) [\"alpha\" \"beta\" \"gamma\"])"
   ]
  },
  {
   "cell_type": "code",
   "execution_count": 20,
   "metadata": {},
   "outputs": [
    {
     "data": {
      "text/plain": [
       "\"FOO\""
      ]
     },
     "execution_count": 20,
     "metadata": {},
     "output_type": "execute_result"
    }
   ],
   "source": [
    "(r/upper \"foo\")"
   ]
  },
  {
   "cell_type": "code",
   "execution_count": 21,
   "metadata": {},
   "outputs": [
    {
     "data": {
      "text/plain": [
       "(\"ALPHA\" \"BETA\" \"GAMMA\")"
      ]
     },
     "execution_count": 21,
     "metadata": {},
     "output_type": "execute_result"
    }
   ],
   "source": [
    "(r/upper [\"alpha\" \"beta\" \"gamma\"])"
   ]
  },
  {
   "cell_type": "code",
   "execution_count": 22,
   "metadata": {},
   "outputs": [
    {
     "data": {
      "text/plain": [
       "(\\d \\e \\a \\d \\l \\y)"
      ]
     },
     "execution_count": 22,
     "metadata": {},
     "output_type": "execute_result"
    }
   ],
   "source": [
    ";; Use (apply str ...) to reconsitute as a string:\n",
    "(r/copy [1 1 1 1 1 1] \"deadly\")"
   ]
  },
  {
   "cell_type": "code",
   "execution_count": 23,
   "metadata": {},
   "outputs": [
    {
     "data": {
      "text/plain": [
       "(\\d \\a \\d)"
      ]
     },
     "execution_count": 23,
     "metadata": {},
     "output_type": "execute_result"
    }
   ],
   "source": [
    "(r/copy [1 0 1 1 0 0] \"deadly\")"
   ]
  },
  {
   "cell_type": "code",
   "execution_count": 24,
   "metadata": {},
   "outputs": [
    {
     "data": {
      "text/plain": [
       "(\\d \\a \\d \\d \\y)"
      ]
     },
     "execution_count": 24,
     "metadata": {},
     "output_type": "execute_result"
    }
   ],
   "source": [
    "(r/copy [1 0 1 2 0 1] \"deadly\")"
   ]
  },
  {
   "cell_type": "markdown",
   "metadata": {},
   "source": [
    "## Booleans\n",
    "\n",
    "Iverson convention is to use `0` for `false` and `1` for `true`. Doing this consistently opens up many opportunities to leverage mathematical properties of these numbers, and so Rankle provides equivalents to Clojure core's predicates that follow this."
   ]
  },
  {
   "cell_type": "code",
   "execution_count": 25,
   "metadata": {},
   "outputs": [
    {
     "data": {
      "text/plain": [
       "(1 0 1)"
      ]
     },
     "execution_count": 25,
     "metadata": {},
     "output_type": "execute_result"
    }
   ],
   "source": [
    "(r/> [3 7 6] [2 9 5])"
   ]
  },
  {
   "cell_type": "code",
   "execution_count": 45,
   "metadata": {},
   "outputs": [
    {
     "data": {
      "text/plain": [
       "[[91 43 16] [0 22 52] [34 73 69]]"
      ]
     },
     "execution_count": 45,
     "metadata": {},
     "output_type": "execute_result"
    }
   ],
   "source": [
    "@(def rand-nums (r/reshape [3 3] (repeatedly 9 (partial rand-int 100))))"
   ]
  },
  {
   "cell_type": "code",
   "execution_count": 46,
   "metadata": {},
   "outputs": [
    {
     "name": "stdout",
     "output_type": "stream",
     "text": [
      "  0  1  1\n",
      "  1  1  0\n",
      "  1  0  0\n"
     ]
    }
   ],
   "source": [
    "(r/print-aligned (r/> 50 rand-nums))"
   ]
  },
  {
   "cell_type": "code",
   "execution_count": 47,
   "metadata": {},
   "outputs": [
    {
     "data": {
      "text/plain": [
       "3"
      ]
     },
     "execution_count": 47,
     "metadata": {},
     "output_type": "execute_result"
    }
   ],
   "source": [
    "(r/count rand-nums)"
   ]
  },
  {
   "cell_type": "code",
   "execution_count": 48,
   "metadata": {},
   "outputs": [
    {
     "data": {
      "text/plain": [
       "(3 3 3)"
      ]
     },
     "execution_count": 48,
     "metadata": {},
     "output_type": "execute_result"
    }
   ],
   "source": [
    "((r/rank r/count 1) rand-nums)"
   ]
  },
  {
   "cell_type": "code",
   "execution_count": 49,
   "metadata": {},
   "outputs": [
    {
     "data": {
      "text/plain": [
       "#'rankle.examples/sum"
      ]
     },
     "execution_count": 49,
     "metadata": {},
     "output_type": "execute_result"
    }
   ],
   "source": [
    "(def sum (partial reduce + 0))"
   ]
  },
  {
   "cell_type": "code",
   "execution_count": 50,
   "metadata": {},
   "outputs": [
    {
     "data": {
      "text/plain": [
       "(150 74 176)"
      ]
     },
     "execution_count": 50,
     "metadata": {},
     "output_type": "execute_result"
    }
   ],
   "source": [
    "((r/rank sum 1) rand-nums)"
   ]
  },
  {
   "cell_type": "code",
   "execution_count": 51,
   "metadata": {},
   "outputs": [
    {
     "name": "stdout",
     "output_type": "stream",
     "text": [
      "Execution error (ClassCastException) at com.semperos.rankle/rank$rankle (rankle.clj:52).\n",
      "clojure.lang.PersistentVector cannot be cast to java.lang.Number\n"
     ]
    },
    {
     "ename": "class java.lang.ClassCastException",
     "evalue": "",
     "output_type": "error",
     "traceback": [
      "           Numbers.java:   153 clojure.lang.Numbers/add                               ",
      "               core.clj:   992 clojure.core$_PLUS_/invokeStatic                       ",
      "               core.clj:   984 clojure.core$_PLUS_/invoke                             ",
      "  PersistentVector.java:   343 clojure.lang.PersistentVector/reduce                   ",
      "               core.clj:  6827 clojure.core$reduce/invokeStatic                       ",
      "               core.clj:  6810 clojure.core$reduce/invoke                             ",
      "               core.clj:  2631 clojure.core$partial$fn__5826/invoke                   ",
      "             rankle.clj:    52 com.semperos.rankle$rank$rankle__7689/invoke           ",
      "                     []:     2 rankle.examples$eval7984/invokeStatic                  ",
      "               core.clj:  3214 clojure.core$eval/invokeStatic                         ",
      "               core.clj:  3210 clojure.core$eval/invoke                               ",
      "               main.clj:   414 clojure.main$repl$read_eval_print__9068$fn__9071/invoke",
      "               main.clj:   435 clojure.main$repl$fn__9077/invoke                      ",
      "               main.clj:   345 clojure.main$repl/doInvoke                             ",
      "            RestFn.java:  1523 clojure.lang.RestFn/invoke                             ",
      "               AFn.java:   152 clojure.lang.AFn/applyToHelper                         ",
      "               AFn.java:   144 clojure.lang.AFn/applyTo                               ",
      "               core.clj:   665 clojure.core$apply/invokeStatic                        ",
      "               core.clj:  1973 clojure.core$with_bindings_STAR_/invokeStatic          ",
      "            RestFn.java:   425 clojure.lang.RestFn/invoke                             ",
      "               AFn.java:    22 clojure.lang.AFn/run                                   ",
      "ThreadPoolExecutor.java:  1149 java.util.concurrent.ThreadPoolExecutor/runWorker      ",
      "ThreadPoolExecutor.java:   624 java.util.concurrent.ThreadPoolExecutor$Worker/run     ",
      "            Thread.java:   748 java.lang.Thread/run                                   "
     ]
    }
   ],
   "source": [
    ";; TODO\n",
    "((r/rank sum 2) rand-nums)"
   ]
  }
 ],
 "metadata": {
  "kernelspec": {
   "display_name": "Clojure",
   "language": "clojure",
   "name": "clojure"
  },
  "language_info": {
   "file_extension": ".clj",
   "mimetype": "text/x-clojure",
   "name": "clojure",
   "version": "1.10.0-RC2"
  }
 },
 "nbformat": 4,
 "nbformat_minor": 2
}
