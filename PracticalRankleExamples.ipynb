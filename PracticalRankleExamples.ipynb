{
 "cells": [
  {
   "cell_type": "markdown",
   "metadata": {},
   "source": [
    "# Practical Rankle Examples\n",
    "\n",
    "_If you have not done so, please review the primary [Rankle](Rankle.ipynb) notebook first._"
   ]
  },
  {
   "cell_type": "code",
   "execution_count": 1,
   "metadata": {},
   "outputs": [],
   "source": [
    "(ns rankle.examples\n",
    "  (:require [cemerick.pomegranate :as pg]))\n",
    "\n",
    "(pg/add-classpath \"./src\")\n",
    "\n",
    "(require '[com.semperos.rankle :as r])"
   ]
  },
  {
   "cell_type": "markdown",
   "metadata": {},
   "source": [
    "## Numbers\n",
    "\n",
    "### Arithmetic"
   ]
  },
  {
   "cell_type": "code",
   "execution_count": 2,
   "metadata": {},
   "outputs": [
    {
     "data": {
      "text/plain": [
       "1"
      ]
     },
     "execution_count": 2,
     "metadata": {},
     "output_type": "execute_result"
    }
   ],
   "source": [
    "(r/+ 1)"
   ]
  },
  {
   "cell_type": "code",
   "execution_count": 3,
   "metadata": {},
   "outputs": [
    {
     "data": {
      "text/plain": [
       "6"
      ]
     },
     "execution_count": 3,
     "metadata": {},
     "output_type": "execute_result"
    }
   ],
   "source": [
    "(r/+ 1 2 3)"
   ]
  },
  {
   "cell_type": "code",
   "execution_count": 4,
   "metadata": {},
   "outputs": [
    {
     "data": {
      "text/plain": [
       "(2 3 4)"
      ]
     },
     "execution_count": 4,
     "metadata": {},
     "output_type": "execute_result"
    }
   ],
   "source": [
    "(r/+ 1 [1 2 3])"
   ]
  },
  {
   "cell_type": "code",
   "execution_count": 5,
   "metadata": {},
   "outputs": [
    {
     "data": {
      "text/plain": [
       "(2 3 4)"
      ]
     },
     "execution_count": 5,
     "metadata": {},
     "output_type": "execute_result"
    }
   ],
   "source": [
    "(r/+ [1 2 3] 1)"
   ]
  },
  {
   "cell_type": "code",
   "execution_count": 6,
   "metadata": {
    "scrolled": true
   },
   "outputs": [
    {
     "data": {
      "text/plain": [
       "(5 7 9)"
      ]
     },
     "execution_count": 6,
     "metadata": {},
     "output_type": "execute_result"
    }
   ],
   "source": [
    "(r/+ [1 2 3] [4 5 6])"
   ]
  },
  {
   "cell_type": "code",
   "execution_count": 7,
   "metadata": {},
   "outputs": [
    {
     "data": {
      "text/plain": [
       "((8 10 12) (14 16 18))"
      ]
     },
     "execution_count": 7,
     "metadata": {},
     "output_type": "execute_result"
    }
   ],
   "source": [
    "(r/+ [[1 2 3] [4 5 6]]\n",
    "     [[7 8 9] [10 11 12]])"
   ]
  },
  {
   "cell_type": "code",
   "execution_count": 8,
   "metadata": {},
   "outputs": [
    {
     "data": {
      "text/plain": [
       "[[0 1 2] [3 4 5]]"
      ]
     },
     "execution_count": 8,
     "metadata": {},
     "output_type": "execute_result"
    }
   ],
   "source": [
    ";; More succinct way to get larger multidimensional sequences of numbers:\n",
    "(r/reshape [2 3] (range 6))"
   ]
  },
  {
   "cell_type": "code",
   "execution_count": 9,
   "metadata": {},
   "outputs": [
    {
     "data": {
      "text/plain": [
       "((0 2 4) (6 8 10))"
      ]
     },
     "execution_count": 9,
     "metadata": {},
     "output_type": "execute_result"
    }
   ],
   "source": [
    "(r/+ (r/reshape [2 3] (range 6))\n",
    "     (r/reshape [2 3] (range 6)))"
   ]
  },
  {
   "cell_type": "code",
   "execution_count": 10,
   "metadata": {},
   "outputs": [
    {
     "name": "stdout",
     "output_type": "stream",
     "text": [
      "  0  2  4\n",
      "  6  8 10\n"
     ]
    }
   ],
   "source": [
    ";; We'll start printing these as tables for ease of review,\n",
    ";; but don't forget that these are just nested Clojure vectors:\n",
    "(r/print-aligned\n",
    " (r/+ (r/reshape [2 3] (range 6))\n",
    "      (r/reshape [2 3] (range 6))))"
   ]
  },
  {
   "cell_type": "code",
   "execution_count": 11,
   "metadata": {},
   "outputs": [
    {
     "name": "stdout",
     "output_type": "stream",
     "text": [
      "  0  1  2  3\n",
      "  5  6  7  8\n",
      " 10 11 12 13\n",
      "\n",
      " 15 16 17 18\n",
      " 20 21 22 23\n",
      " 25 26 27 28\n",
      "\n"
     ]
    }
   ],
   "source": [
    ";; As long as the common frame (i.e., the first axes of the shape of each argument)\n",
    ";; is the same, we can operate on data of different shapes:\n",
    "(r/print-aligned\n",
    " (r/+ (r/reshape [2 3] (range 6))\n",
    "      (r/reshape [2 3 4] (range 24))))"
   ]
  },
  {
   "cell_type": "code",
   "execution_count": 12,
   "metadata": {},
   "outputs": [
    {
     "name": "stdout",
     "output_type": "stream",
     "text": [
      "4 8 12\n"
     ]
    }
   ],
   "source": [
    ";; All of these things work for other arithmetic operations, too.\n",
    "(r/print-aligned\n",
    " (r/* 2 [2 4 6]))"
   ]
  },
  {
   "cell_type": "code",
   "execution_count": 13,
   "metadata": {},
   "outputs": [
    {
     "name": "stdout",
     "output_type": "stream",
     "text": [
      "16 40 72\n"
     ]
    }
   ],
   "source": [
    "(r/print-aligned\n",
    " (r/* [2 4 6] [8 10 12]))"
   ]
  },
  {
   "cell_type": "code",
   "execution_count": 14,
   "metadata": {},
   "outputs": [
    {
     "name": "stdout",
     "output_type": "stream",
     "text": [
      "  0  0  0  0\n",
      "  4  5  6  7\n",
      " 16 18 20 22\n",
      "\n",
      " 36 39 42 45\n",
      " 64 68 72 76\n",
      " 100 105 110 115\n",
      "\n"
     ]
    }
   ],
   "source": [
    "(r/print-aligned\n",
    " (r/* (r/reshape [2 3] (range 6))\n",
    "      (r/reshape [2 3 4] (range 24))))"
   ]
  },
  {
   "cell_type": "code",
   "execution_count": 15,
   "metadata": {},
   "outputs": [
    {
     "name": "stdout",
     "output_type": "stream",
     "text": [
      " -1 -1 -1\n",
      " -1 -1 -1\n"
     ]
    }
   ],
   "source": [
    "(r/print-aligned\n",
    "  (r/- (r/reshape [2 3] (range 6))\n",
    "       (r/reshape [2 3] (map inc (range 6)))))"
   ]
  },
  {
   "cell_type": "code",
   "execution_count": 16,
   "metadata": {},
   "outputs": [
    {
     "name": "stdout",
     "output_type": "stream",
     "text": [
      "   0 1/2 2/3\n",
      " 3/4 4/5 5/6\n"
     ]
    }
   ],
   "source": [
    "(r/print-aligned\n",
    "  (r// (r/reshape [2 3] (range 6))\n",
    "       (r/reshape [2 3] (map inc (range 6)))))"
   ]
  },
  {
   "cell_type": "markdown",
   "metadata": {},
   "source": [
    "## Strings"
   ]
  }
 ],
 "metadata": {
  "kernelspec": {
   "display_name": "Clojure",
   "language": "clojure",
   "name": "clojure"
  },
  "language_info": {
   "file_extension": ".clj",
   "mimetype": "text/x-clojure",
   "name": "clojure",
   "version": "1.10.0-RC2"
  }
 },
 "nbformat": 4,
 "nbformat_minor": 2
}
